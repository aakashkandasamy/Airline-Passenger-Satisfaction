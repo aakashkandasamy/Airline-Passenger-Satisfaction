{
 "cells": [
  {
   "cell_type": "markdown",
   "id": "cc28fbe2",
   "metadata": {},
   "source": [
    "## Airline Passenger Satisfaction\n",
    "\n",
    "During Covid-19, a lot of airlines suffered great losses as people were unable to travel. A lot of these airlines also went out of business and were unable to start back up during the endemic. One of the reasons for this was the customers' previous interactions with the airlines which left them either satisfied or dissatisfied. As such, it became imperative for the airlines to ensure that they were able to cater to the customers by providing the best services, while also being aware of the costs for each. This led us to wonder what factors lead to customer satisfaction for an Airline?\n",
    "\n",
    "We went to Kaggle and found a dataset that had a number of factors and also had surveys from the customers to see how satisfied or neutral/dissatisfied they were. \n"
   ]
  },
  {
   "cell_type": "markdown",
   "id": "4e5fbda1",
   "metadata": {},
   "source": [
    "### Attribute Information:\n",
    "\n",
    "Gender: Gender of the passengers (Female, Male)\n",
    "\n",
    "Customer Type: The customer type (Loyal customer, disloyal customer)\n",
    "\n",
    "Age: The actual age of the passengers\n",
    "\n",
    "Type of Travel: Purpose of the flight of the passengers (Personal Travel, Business Travel)\n",
    "\n",
    "Class: Travel class in the plane of the passengers (Business, Eco, Eco Plus)\n",
    "\n",
    "Flight distance: The flight distance of this journey\n",
    "\n",
    "Inflight wifi service: Satisfaction level of the inflight wifi service (0:Not Applicable;1-5)\n",
    "\n",
    "Departure/Arrival time convenient: Satisfaction level of Departure/Arrival time convenient\n",
    "\n",
    "Ease of Online booking: Satisfaction level of online booking\n",
    "\n",
    "Gate location: Satisfaction level of Gate location\n",
    "\n",
    "Food and drink: Satisfaction level of Food and drink\n",
    "\n",
    "Online boarding: Satisfaction level of online boarding\n",
    "\n",
    "Seat comfort: Satisfaction level of Seat comfort\n",
    "\n",
    "Inflight entertainment: Satisfaction level of inflight entertainment\n",
    "\n",
    "On-board service: Satisfaction level of On-board service\n",
    "\n",
    "Leg room service: Satisfaction level of Leg room service\n",
    "\n",
    "Baggage handling: Satisfaction level of baggage handling\n",
    "\n",
    "Check-in service: Satisfaction level of Check-in service\n",
    "\n",
    "Inflight service: Satisfaction level of inflight service\n",
    "\n",
    "Cleanliness: Satisfaction level of Cleanliness\n",
    "\n",
    "Departure Delay in Minutes: Minutes delayed when departure\n",
    "\n",
    "Arrival Delay in Minutes: Minutes delayed when Arrival\n",
    "\n",
    "Label:\n",
    "Satisfaction: Airline satisfaction level(Satisfaction, neutral or dissatisfaction)\n"
   ]
  },
  {
   "cell_type": "markdown",
   "id": "225ae53d",
   "metadata": {},
   "source": [
    "Exploratory Data Analysis(EDA)\n",
    "\n",
    "For our EDA, we first had to clean the data set and check the correlation between the factors and the satisfaction level of the customers. "
   ]
  },
  {
   "cell_type": "code",
   "execution_count": 5,
   "id": "47604472",
   "metadata": {},
   "outputs": [],
   "source": [
    "import numpy as np\n",
    "import pandas as pd\n",
    "import matplotlib.pyplot as plt\n",
    "import seaborn as sns\n",
    "import plotly.express as px"
   ]
  },
  {
   "cell_type": "code",
   "execution_count": 6,
   "id": "bb4a8bfc",
   "metadata": {},
   "outputs": [],
   "source": [
    "df1 = 'train.csv'\n",
    "df2 = 'test.csv'\n",
    "\n",
    "df = pd.read_csv(df1)\n",
    "df_test = pd.read_csv(df2)"
   ]
  },
  {
   "cell_type": "markdown",
   "id": "a0430584",
   "metadata": {},
   "source": [
    "Once we initialized the dataframes for the train and test data, we wanted to gather information on the datatypes we would be dealing with for each of the factors. We used the .info command for this. "
   ]
  },
  {
   "cell_type": "code",
   "execution_count": 7,
   "id": "cdac4572",
   "metadata": {},
   "outputs": [
    {
     "name": "stdout",
     "output_type": "stream",
     "text": [
      "<class 'pandas.core.frame.DataFrame'>\n",
      "RangeIndex: 103904 entries, 0 to 103903\n",
      "Data columns (total 25 columns):\n",
      " #   Column                             Non-Null Count   Dtype  \n",
      "---  ------                             --------------   -----  \n",
      " 0   Unnamed: 0                         103904 non-null  int64  \n",
      " 1   id                                 103904 non-null  int64  \n",
      " 2   Gender                             103904 non-null  object \n",
      " 3   Customer Type                      103904 non-null  object \n",
      " 4   Age                                103904 non-null  int64  \n",
      " 5   Type of Travel                     103904 non-null  object \n",
      " 6   Class                              103904 non-null  object \n",
      " 7   Flight Distance                    103904 non-null  int64  \n",
      " 8   Inflight wifi service              103904 non-null  int64  \n",
      " 9   Departure/Arrival time convenient  103904 non-null  int64  \n",
      " 10  Ease of Online booking             103904 non-null  int64  \n",
      " 11  Gate location                      103904 non-null  int64  \n",
      " 12  Food and drink                     103904 non-null  int64  \n",
      " 13  Online boarding                    103904 non-null  int64  \n",
      " 14  Seat comfort                       103904 non-null  int64  \n",
      " 15  Inflight entertainment             103904 non-null  int64  \n",
      " 16  On-board service                   103904 non-null  int64  \n",
      " 17  Leg room service                   103904 non-null  int64  \n",
      " 18  Baggage handling                   103904 non-null  int64  \n",
      " 19  Checkin service                    103904 non-null  int64  \n",
      " 20  Inflight service                   103904 non-null  int64  \n",
      " 21  Cleanliness                        103904 non-null  int64  \n",
      " 22  Departure Delay in Minutes         103904 non-null  int64  \n",
      " 23  Arrival Delay in Minutes           103594 non-null  float64\n",
      " 24  satisfaction                       103904 non-null  object \n",
      "dtypes: float64(1), int64(19), object(5)\n",
      "memory usage: 19.8+ MB\n"
     ]
    }
   ],
   "source": [
    "df.info()"
   ]
  },
  {
   "cell_type": "markdown",
   "id": "c8b18570",
   "metadata": {},
   "source": [
    "By looking at the data and seeing the Non-Null data, we were able to identify that 'Arrival Delay in Minutes' only had 103594 instances of non-null data, while the other factors consistently had 103904 instances. \n",
    "\n",
    "The first two columns of the dataset are also 'Unnamed: 0' and 'id', which would not help our model. As such, these can be removed. "
   ]
  },
  {
   "cell_type": "code",
   "execution_count": 8,
   "id": "768f4762",
   "metadata": {},
   "outputs": [
    {
     "name": "stdout",
     "output_type": "stream",
     "text": [
      "<class 'pandas.core.frame.DataFrame'>\n",
      "RangeIndex: 103904 entries, 0 to 103903\n",
      "Data columns (total 23 columns):\n",
      " #   Column                             Non-Null Count   Dtype  \n",
      "---  ------                             --------------   -----  \n",
      " 0   Gender                             103904 non-null  object \n",
      " 1   Customer Type                      103904 non-null  object \n",
      " 2   Age                                103904 non-null  int64  \n",
      " 3   Type of Travel                     103904 non-null  object \n",
      " 4   Class                              103904 non-null  object \n",
      " 5   Flight Distance                    103904 non-null  int64  \n",
      " 6   Inflight wifi service              103904 non-null  int64  \n",
      " 7   Departure/Arrival time convenient  103904 non-null  int64  \n",
      " 8   Ease of Online booking             103904 non-null  int64  \n",
      " 9   Gate location                      103904 non-null  int64  \n",
      " 10  Food and drink                     103904 non-null  int64  \n",
      " 11  Online boarding                    103904 non-null  int64  \n",
      " 12  Seat comfort                       103904 non-null  int64  \n",
      " 13  Inflight entertainment             103904 non-null  int64  \n",
      " 14  On-board service                   103904 non-null  int64  \n",
      " 15  Leg room service                   103904 non-null  int64  \n",
      " 16  Baggage handling                   103904 non-null  int64  \n",
      " 17  Checkin service                    103904 non-null  int64  \n",
      " 18  Inflight service                   103904 non-null  int64  \n",
      " 19  Cleanliness                        103904 non-null  int64  \n",
      " 20  Departure Delay in Minutes         103904 non-null  int64  \n",
      " 21  Arrival Delay in Minutes           103594 non-null  float64\n",
      " 22  satisfaction                       103904 non-null  object \n",
      "dtypes: float64(1), int64(17), object(5)\n",
      "memory usage: 18.2+ MB\n"
     ]
    }
   ],
   "source": [
    "df = df.drop(df.iloc[:,[0, 1]], axis = 1)\n",
    "df.info()"
   ]
  },
  {
   "cell_type": "markdown",
   "id": "c4125af7",
   "metadata": {},
   "source": [
    "The majority of the factors in the dataset are also categorical, but have been mislabelled as int64 and objects. In order to change these, we can use the 'iloc' method to change these to categorical. "
   ]
  },
  {
   "cell_type": "code",
   "execution_count": 9,
   "id": "f258557f",
   "metadata": {},
   "outputs": [
    {
     "name": "stdout",
     "output_type": "stream",
     "text": [
      "<class 'pandas.core.frame.DataFrame'>\n",
      "RangeIndex: 103904 entries, 0 to 103903\n",
      "Data columns (total 23 columns):\n",
      " #   Column                             Non-Null Count   Dtype   \n",
      "---  ------                             --------------   -----   \n",
      " 0   Gender                             103904 non-null  category\n",
      " 1   Customer Type                      103904 non-null  category\n",
      " 2   Age                                103904 non-null  int64   \n",
      " 3   Type of Travel                     103904 non-null  category\n",
      " 4   Class                              103904 non-null  category\n",
      " 5   Flight Distance                    103904 non-null  int64   \n",
      " 6   Inflight wifi service              103904 non-null  category\n",
      " 7   Departure/Arrival time convenient  103904 non-null  category\n",
      " 8   Ease of Online booking             103904 non-null  category\n",
      " 9   Gate location                      103904 non-null  category\n",
      " 10  Food and drink                     103904 non-null  category\n",
      " 11  Online boarding                    103904 non-null  category\n",
      " 12  Seat comfort                       103904 non-null  category\n",
      " 13  Inflight entertainment             103904 non-null  category\n",
      " 14  On-board service                   103904 non-null  category\n",
      " 15  Leg room service                   103904 non-null  category\n",
      " 16  Baggage handling                   103904 non-null  category\n",
      " 17  Checkin service                    103904 non-null  category\n",
      " 18  Inflight service                   103904 non-null  category\n",
      " 19  Cleanliness                        103904 non-null  category\n",
      " 20  Departure Delay in Minutes         103904 non-null  int64   \n",
      " 21  Arrival Delay in Minutes           103594 non-null  float64 \n",
      " 22  satisfaction                       103904 non-null  object  \n",
      "dtypes: category(18), float64(1), int64(3), object(1)\n",
      "memory usage: 5.8+ MB\n"
     ]
    }
   ],
   "source": [
    "catindex = [0, 1, 3, 4] + list(range(6, 20))\n",
    "df.iloc[:,catindex] = df.iloc[:,catindex].astype('category')\n",
    "df.info()"
   ]
  },
  {
   "cell_type": "markdown",
   "id": "d0ff524c",
   "metadata": {},
   "source": [
    "In order to get some reference for the numerical data we are using, we decided to find the correlation between them. "
   ]
  },
  {
   "cell_type": "code",
   "execution_count": 10,
   "id": "27b6e3ef",
   "metadata": {},
   "outputs": [
    {
     "data": {
      "text/html": [
       "<div>\n",
       "<style scoped>\n",
       "    .dataframe tbody tr th:only-of-type {\n",
       "        vertical-align: middle;\n",
       "    }\n",
       "\n",
       "    .dataframe tbody tr th {\n",
       "        vertical-align: top;\n",
       "    }\n",
       "\n",
       "    .dataframe thead th {\n",
       "        text-align: right;\n",
       "    }\n",
       "</style>\n",
       "<table border=\"1\" class=\"dataframe\">\n",
       "  <thead>\n",
       "    <tr style=\"text-align: right;\">\n",
       "      <th></th>\n",
       "      <th>Age</th>\n",
       "      <th>Flight Distance</th>\n",
       "      <th>Departure Delay in Minutes</th>\n",
       "      <th>Arrival Delay in Minutes</th>\n",
       "    </tr>\n",
       "  </thead>\n",
       "  <tbody>\n",
       "    <tr>\n",
       "      <th>Age</th>\n",
       "      <td>1.000000</td>\n",
       "      <td>0.099461</td>\n",
       "      <td>-0.010152</td>\n",
       "      <td>-0.012147</td>\n",
       "    </tr>\n",
       "    <tr>\n",
       "      <th>Flight Distance</th>\n",
       "      <td>0.099461</td>\n",
       "      <td>1.000000</td>\n",
       "      <td>0.002158</td>\n",
       "      <td>-0.002426</td>\n",
       "    </tr>\n",
       "    <tr>\n",
       "      <th>Departure Delay in Minutes</th>\n",
       "      <td>-0.010152</td>\n",
       "      <td>0.002158</td>\n",
       "      <td>1.000000</td>\n",
       "      <td>0.965481</td>\n",
       "    </tr>\n",
       "    <tr>\n",
       "      <th>Arrival Delay in Minutes</th>\n",
       "      <td>-0.012147</td>\n",
       "      <td>-0.002426</td>\n",
       "      <td>0.965481</td>\n",
       "      <td>1.000000</td>\n",
       "    </tr>\n",
       "  </tbody>\n",
       "</table>\n",
       "</div>"
      ],
      "text/plain": [
       "                                 Age  Flight Distance  \\\n",
       "Age                         1.000000         0.099461   \n",
       "Flight Distance             0.099461         1.000000   \n",
       "Departure Delay in Minutes -0.010152         0.002158   \n",
       "Arrival Delay in Minutes   -0.012147        -0.002426   \n",
       "\n",
       "                            Departure Delay in Minutes  \\\n",
       "Age                                          -0.010152   \n",
       "Flight Distance                               0.002158   \n",
       "Departure Delay in Minutes                    1.000000   \n",
       "Arrival Delay in Minutes                      0.965481   \n",
       "\n",
       "                            Arrival Delay in Minutes  \n",
       "Age                                        -0.012147  \n",
       "Flight Distance                            -0.002426  \n",
       "Departure Delay in Minutes                  0.965481  \n",
       "Arrival Delay in Minutes                    1.000000  "
      ]
     },
     "execution_count": 10,
     "metadata": {},
     "output_type": "execute_result"
    }
   ],
   "source": [
    "df.corr()"
   ]
  },
  {
   "cell_type": "markdown",
   "id": "2c5a5941",
   "metadata": {},
   "source": [
    "The standing out feature of this correlation is that the Departure Delay in Minutes and Arrival Delay in Minutes is very highly correlated, which makes sense as the flight would arrive a set number of minutes late if it also departed later. This can be better seen with the help of a scatter plot. "
   ]
  },
  {
   "cell_type": "code",
   "execution_count": 11,
   "id": "d28635f8",
   "metadata": {
    "scrolled": true
   },
   "outputs": [
    {
     "data": {
      "text/plain": [
       "<matplotlib.collections.PathCollection at 0x1e7f9b9d370>"
      ]
     },
     "execution_count": 11,
     "metadata": {},
     "output_type": "execute_result"
    },
    {
     "data": {
      "image/png": "[encoded data removed]",
      "text/plain": [
       "<Figure size 432x288 with 1 Axes>"
      ]
     },
     "metadata": {
      "needs_background": "light"
     },
     "output_type": "display_data"
    }
   ],
   "source": [
    "plt.scatter(df['Arrival Delay in Minutes'], df['Departure Delay in Minutes'])"
   ]
  },
  {
   "cell_type": "markdown",
   "id": "75121033",
   "metadata": {},
   "source": [
    "Another interesting set of factors we wanted to pursue on was the relation between the age of the customers and their loyalty to the airline, as we predicted that the older you get the more you would care about loyalty to the airline. We wanted to visualise this with a boxplot:"
   ]
  },
  {
   "cell_type": "code",
   "execution_count": 12,
   "id": "6be3bc0d",
   "metadata": {
    "scrolled": true
   },
   "outputs": [
    {
     "data": {
      "text/plain": [
       "<AxesSubplot:xlabel='Customer Type', ylabel='Age'>"
      ]
     },
     "execution_count": 12,
     "metadata": {},
     "output_type": "execute_result"
    },
    {
     "data": {
      "image/png": "[encoded data removed]",
      "text/plain": [
       "<Figure size 432x288 with 1 Axes>"
      ]
     },
     "metadata": {
      "needs_background": "light"
     },
     "output_type": "display_data"
    }
   ],
   "source": [
    "sns.boxplot(x = \"Customer Type\", y = \"Age\", data = df)"
   ]
  },
  {
   "cell_type": "markdown",
   "id": "c32e55c7",
   "metadata": {},
   "source": [
    "As predicted, the loyal customers were usually older than the disloyal customers. Another prediction we had was that the people buying business class tickets would also be older than the Eco Plus and Eco class, as they would generally have more money. "
   ]
  },
  {
   "cell_type": "code",
   "execution_count": 13,
   "id": "4db6e4fa",
   "metadata": {},
   "outputs": [
    {
     "data": {
      "text/plain": [
       "<AxesSubplot:xlabel='Class', ylabel='Age'>"
      ]
     },
     "execution_count": 13,
     "metadata": {},
     "output_type": "execute_result"
    },
    {
     "data": {
      "image/png": "[encoded data removed]",
      "text/plain": [
       "<Figure size 432x288 with 1 Axes>"
      ]
     },
     "metadata": {
      "needs_background": "light"
     },
     "output_type": "display_data"
    }
   ],
   "source": [
    "sns.boxplot(x = \"Class\", y = \"Age\", data = df)"
   ]
  },
  {
   "cell_type": "markdown",
   "id": "a874e324",
   "metadata": {},
   "source": [
    "We were surprised to find that the ages of the customers don't significantly change the class they were flying in. \n",
    "\n",
    "We then wanted to see if longer flights generally led to more business class sales, as people would want to be more comfortable. Also, many companies only allow business class tickets if the flight is more than 4hrs, so that too would play a role in our hypothesis. "
   ]
  },
  {
   "cell_type": "code",
   "execution_count": 14,
   "id": "0073d770",
   "metadata": {},
   "outputs": [
    {
     "data": {
      "text/plain": [
       "<AxesSubplot:xlabel='Class', ylabel='Flight Distance'>"
      ]
     },
     "execution_count": 14,
     "metadata": {},
     "output_type": "execute_result"
    },
    {
     "data": {
      "image/png": "[encoded data removed]",
      "text/plain": [
       "<Figure size 432x288 with 1 Axes>"
      ]
     },
     "metadata": {
      "needs_background": "light"
     },
     "output_type": "display_data"
    }
   ],
   "source": [
    "sns.boxplot(x = \"Class\", y = \"Flight Distance\", data = df)"
   ]
  },
  {
   "cell_type": "markdown",
   "id": "b632c2d9",
   "metadata": {},
   "source": [
    "This was inline with our hypothesis. Another major factor that we felt would be revealing were the flight distances along with the features of the flight, such as Leg room, seat comfort, on-board service andin-flight entertainment. We plotted more diagrams to explore this. "
   ]
  },
  {
   "cell_type": "code",
   "execution_count": 15,
   "id": "5a4b2e56",
   "metadata": {},
   "outputs": [
    {
     "data": {
      "text/plain": [
       "<AxesSubplot:xlabel='Seat comfort', ylabel='Flight Distance'>"
      ]
     },
     "execution_count": 15,
     "metadata": {},
     "output_type": "execute_result"
    },
    {
     "data": {
      "image/png": "[encoded data removed]",
      "text/plain": [
       "<Figure size 432x288 with 1 Axes>"
      ]
     },
     "metadata": {
      "needs_background": "light"
     },
     "output_type": "display_data"
    }
   ],
   "source": [
    "sns.boxplot(x = \"Seat comfort\", y = \"Flight Distance\", data = df)"
   ]
  },
  {
   "cell_type": "code",
   "execution_count": 16,
   "id": "322ab5f4",
   "metadata": {},
   "outputs": [
    {
     "data": {
      "text/plain": [
       "<AxesSubplot:xlabel='Inflight entertainment', ylabel='Flight Distance'>"
      ]
     },
     "execution_count": 16,
     "metadata": {},
     "output_type": "execute_result"
    },
    {
     "data": {
      "image/png": "[encoded data removed]",
      "text/plain": [
       "<Figure size 432x288 with 1 Axes>"
      ]
     },
     "metadata": {
      "needs_background": "light"
     },
     "output_type": "display_data"
    }
   ],
   "source": [
    "sns.boxplot(x = \"Inflight entertainment\", y = \"Flight Distance\", data = df)"
   ]
  },
  {
   "cell_type": "code",
   "execution_count": 17,
   "id": "fb8577e2",
   "metadata": {},
   "outputs": [
    {
     "data": {
      "text/plain": [
       "<AxesSubplot:xlabel='On-board service', ylabel='Flight Distance'>"
      ]
     },
     "execution_count": 17,
     "metadata": {},
     "output_type": "execute_result"
    },
    {
     "data": {
      "image/png": "[encoded data removed]",
      "text/plain": [
       "<Figure size 432x288 with 1 Axes>"
      ]
     },
     "metadata": {
      "needs_background": "light"
     },
     "output_type": "display_data"
    }
   ],
   "source": [
    "sns.boxplot(x = \"On-board service\", y = \"Flight Distance\", data = df)"
   ]
  },
  {
   "cell_type": "code",
   "execution_count": 18,
   "id": "4acdbb93",
   "metadata": {},
   "outputs": [
    {
     "data": {
      "text/plain": [
       "<AxesSubplot:xlabel='Leg room service', ylabel='Flight Distance'>"
      ]
     },
     "execution_count": 18,
     "metadata": {},
     "output_type": "execute_result"
    },
    {
     "data": {
      "image/png": "[encoded data removed]",
      "text/plain": [
       "<Figure size 432x288 with 1 Axes>"
      ]
     },
     "metadata": {
      "needs_background": "light"
     },
     "output_type": "display_data"
    }
   ],
   "source": [
    "sns.boxplot(x = \"Leg room service\", y = \"Flight Distance\", data = df)"
   ]
  },
  {
   "cell_type": "markdown",
   "id": "e82a7724",
   "metadata": {},
   "source": [
    "As we guessed, as flight distance increases, people seem to be more impressed with the Inflight entertainment, Leg room service, On-board service and the seat comfort. Another rather important thing we felt would be important to determine the satisfaction of the customer would be to see the seat they chose. \n",
    "\n",
    "As they would fall under the price-quality heuristic, they would be more inclined to be more satisfied with their purchases, as they had paid more for it. Using the sunk-cost fallacy model, they would also be more inclined to use the products they have been provided with more, which could all lead to a better vote. They would also vote better as they generally would be getting better products for their flight. \n",
    "\n",
    "We used a countplot to determine this:"
   ]
  },
  {
   "cell_type": "code",
   "execution_count": 19,
   "id": "6f685548",
   "metadata": {},
   "outputs": [
    {
     "data": {
      "image/png": "[encoded data removed]",
      "text/plain": [
       "<Figure size 432x288 with 1 Axes>"
      ]
     },
     "metadata": {
      "needs_background": "light"
     },
     "output_type": "display_data"
    }
   ],
   "source": [
    "sns.countplot(x = 'Class', hue = 'satisfaction', data = df)\n",
    "plt.show()"
   ]
  },
  {
   "cell_type": "markdown",
   "id": "02344065",
   "metadata": {},
   "source": [
    "As can be seen in the diagram above, the people that fly in Business class are generally more satisfied with their flights."
   ]
  },
  {
   "cell_type": "markdown",
   "id": "3a6c010a",
   "metadata": {},
   "source": [
    "### We previously mentioned that some data was missing. Let's look at what's missing and how we can fill it in. "
   ]
  },
  {
   "cell_type": "code",
   "execution_count": 20,
   "id": "739468e7",
   "metadata": {},
   "outputs": [
    {
     "data": {
      "text/plain": [
       "Gender                                 0\n",
       "Customer Type                          0\n",
       "Age                                    0\n",
       "Type of Travel                         0\n",
       "Class                                  0\n",
       "Flight Distance                        0\n",
       "Inflight wifi service                  0\n",
       "Departure/Arrival time convenient      0\n",
       "Ease of Online booking                 0\n",
       "Gate location                          0\n",
       "Food and drink                         0\n",
       "Online boarding                        0\n",
       "Seat comfort                           0\n",
       "Inflight entertainment                 0\n",
       "On-board service                       0\n",
       "Leg room service                       0\n",
       "Baggage handling                       0\n",
       "Checkin service                        0\n",
       "Inflight service                       0\n",
       "Cleanliness                            0\n",
       "Departure Delay in Minutes             0\n",
       "Arrival Delay in Minutes             310\n",
       "satisfaction                           0\n",
       "dtype: int64"
      ]
     },
     "execution_count": 20,
     "metadata": {},
     "output_type": "execute_result"
    }
   ],
   "source": [
    "df.isna().sum()\n"
   ]
  },
  {
   "cell_type": "markdown",
   "id": "4dc591fc",
   "metadata": {},
   "source": [
    "We decided to fill this missing data in with the median of the remaining data in the Arrival Delay in Minutes."
   ]
  },
  {
   "cell_type": "code",
   "execution_count": 21,
   "id": "a90c4098",
   "metadata": {},
   "outputs": [],
   "source": [
    "df['Arrival Delay in Minutes'].fillna(df['Arrival Delay in Minutes'].median(axis = 0), inplace = True)"
   ]
  },
  {
   "cell_type": "code",
   "execution_count": 22,
   "id": "cb2b4097",
   "metadata": {},
   "outputs": [
    {
     "name": "stdout",
     "output_type": "stream",
     "text": [
      "<class 'pandas.core.frame.DataFrame'>\n",
      "RangeIndex: 103904 entries, 0 to 103903\n",
      "Data columns (total 23 columns):\n",
      " #   Column                             Non-Null Count   Dtype   \n",
      "---  ------                             --------------   -----   \n",
      " 0   Gender                             103904 non-null  category\n",
      " 1   Customer Type                      103904 non-null  category\n",
      " 2   Age                                103904 non-null  int64   \n",
      " 3   Type of Travel                     103904 non-null  category\n",
      " 4   Class                              103904 non-null  category\n",
      " 5   Flight Distance                    103904 non-null  int64   \n",
      " 6   Inflight wifi service              103904 non-null  category\n",
      " 7   Departure/Arrival time convenient  103904 non-null  category\n",
      " 8   Ease of Online booking             103904 non-null  category\n",
      " 9   Gate location                      103904 non-null  category\n",
      " 10  Food and drink                     103904 non-null  category\n",
      " 11  Online boarding                    103904 non-null  category\n",
      " 12  Seat comfort                       103904 non-null  category\n",
      " 13  Inflight entertainment             103904 non-null  category\n",
      " 14  On-board service                   103904 non-null  category\n",
      " 15  Leg room service                   103904 non-null  category\n",
      " 16  Baggage handling                   103904 non-null  category\n",
      " 17  Checkin service                    103904 non-null  category\n",
      " 18  Inflight service                   103904 non-null  category\n",
      " 19  Cleanliness                        103904 non-null  category\n",
      " 20  Departure Delay in Minutes         103904 non-null  int64   \n",
      " 21  Arrival Delay in Minutes           103904 non-null  float64 \n",
      " 22  satisfaction                       103904 non-null  object  \n",
      "dtypes: category(18), float64(1), int64(3), object(1)\n",
      "memory usage: 5.8+ MB\n"
     ]
    }
   ],
   "source": [
    "df.info()"
   ]
  },
  {
   "cell_type": "markdown",
   "id": "fed81df8",
   "metadata": {},
   "source": [
    "Now that every factor has 103904 values(no missing values), we can start with the proper data transformation and then move on to the machine learning algorithms."
   ]
  },
  {
   "cell_type": "markdown",
   "id": "8e89ddd8",
   "metadata": {},
   "source": [
    "Now, we shall go deeper into the categorical data a bit"
   ]
  },
  {
   "cell_type": "code",
   "execution_count": 26,
   "id": "d4231910",
   "metadata": {},
   "outputs": [
    {
     "data": {
      "text/html": [
       "<div>\n",
       "<style scoped>\n",
       "    .dataframe tbody tr th:only-of-type {\n",
       "        vertical-align: middle;\n",
       "    }\n",
       "\n",
       "    .dataframe tbody tr th {\n",
       "        vertical-align: top;\n",
       "    }\n",
       "\n",
       "    .dataframe thead th {\n",
       "        text-align: right;\n",
       "    }\n",
       "</style>\n",
       "<table border=\"1\" class=\"dataframe\">\n",
       "  <thead>\n",
       "    <tr style=\"text-align: right;\">\n",
       "      <th></th>\n",
       "      <th>Gender</th>\n",
       "      <th>Customer Type</th>\n",
       "      <th>Type of Travel</th>\n",
       "      <th>Class</th>\n",
       "      <th>Inflight wifi service</th>\n",
       "      <th>Departure/Arrival time convenient</th>\n",
       "      <th>Ease of Online booking</th>\n",
       "      <th>Gate location</th>\n",
       "      <th>Food and drink</th>\n",
       "      <th>Online boarding</th>\n",
       "      <th>Seat comfort</th>\n",
       "      <th>Inflight entertainment</th>\n",
       "      <th>On-board service</th>\n",
       "      <th>Leg room service</th>\n",
       "      <th>Baggage handling</th>\n",
       "      <th>Checkin service</th>\n",
       "      <th>Inflight service</th>\n",
       "      <th>Cleanliness</th>\n",
       "    </tr>\n",
       "  </thead>\n",
       "  <tbody>\n",
       "    <tr>\n",
       "      <th>count</th>\n",
       "      <td>103904</td>\n",
       "      <td>103904</td>\n",
       "      <td>103904</td>\n",
       "      <td>103904</td>\n",
       "      <td>103904</td>\n",
       "      <td>103904</td>\n",
       "      <td>103904</td>\n",
       "      <td>103904</td>\n",
       "      <td>103904</td>\n",
       "      <td>103904</td>\n",
       "      <td>103904</td>\n",
       "      <td>103904</td>\n",
       "      <td>103904</td>\n",
       "      <td>103904</td>\n",
       "      <td>103904</td>\n",
       "      <td>103904</td>\n",
       "      <td>103904</td>\n",
       "      <td>103904</td>\n",
       "    </tr>\n",
       "    <tr>\n",
       "      <th>unique</th>\n",
       "      <td>2</td>\n",
       "      <td>2</td>\n",
       "      <td>2</td>\n",
       "      <td>3</td>\n",
       "      <td>6</td>\n",
       "      <td>6</td>\n",
       "      <td>6</td>\n",
       "      <td>6</td>\n",
       "      <td>6</td>\n",
       "      <td>6</td>\n",
       "      <td>6</td>\n",
       "      <td>6</td>\n",
       "      <td>6</td>\n",
       "      <td>6</td>\n",
       "      <td>5</td>\n",
       "      <td>6</td>\n",
       "      <td>6</td>\n",
       "      <td>6</td>\n",
       "    </tr>\n",
       "    <tr>\n",
       "      <th>top</th>\n",
       "      <td>Female</td>\n",
       "      <td>Loyal Customer</td>\n",
       "      <td>Business travel</td>\n",
       "      <td>Business</td>\n",
       "      <td>3</td>\n",
       "      <td>4</td>\n",
       "      <td>3</td>\n",
       "      <td>3</td>\n",
       "      <td>4</td>\n",
       "      <td>4</td>\n",
       "      <td>4</td>\n",
       "      <td>4</td>\n",
       "      <td>4</td>\n",
       "      <td>4</td>\n",
       "      <td>4</td>\n",
       "      <td>4</td>\n",
       "      <td>4</td>\n",
       "      <td>4</td>\n",
       "    </tr>\n",
       "    <tr>\n",
       "      <th>freq</th>\n",
       "      <td>52727</td>\n",
       "      <td>84923</td>\n",
       "      <td>71655</td>\n",
       "      <td>49665</td>\n",
       "      <td>25868</td>\n",
       "      <td>25546</td>\n",
       "      <td>24449</td>\n",
       "      <td>28577</td>\n",
       "      <td>24359</td>\n",
       "      <td>30762</td>\n",
       "      <td>31765</td>\n",
       "      <td>29423</td>\n",
       "      <td>30867</td>\n",
       "      <td>28789</td>\n",
       "      <td>37383</td>\n",
       "      <td>29055</td>\n",
       "      <td>37945</td>\n",
       "      <td>27179</td>\n",
       "    </tr>\n",
       "  </tbody>\n",
       "</table>\n",
       "</div>"
      ],
      "text/plain": [
       "        Gender   Customer Type   Type of Travel     Class  \\\n",
       "count   103904          103904           103904    103904   \n",
       "unique       2               2                2         3   \n",
       "top     Female  Loyal Customer  Business travel  Business   \n",
       "freq     52727           84923            71655     49665   \n",
       "\n",
       "        Inflight wifi service  Departure/Arrival time convenient  \\\n",
       "count                  103904                             103904   \n",
       "unique                      6                                  6   \n",
       "top                         3                                  4   \n",
       "freq                    25868                              25546   \n",
       "\n",
       "        Ease of Online booking  Gate location  Food and drink  \\\n",
       "count                   103904         103904          103904   \n",
       "unique                       6              6               6   \n",
       "top                          3              3               4   \n",
       "freq                     24449          28577           24359   \n",
       "\n",
       "        Online boarding  Seat comfort  Inflight entertainment  \\\n",
       "count            103904        103904                  103904   \n",
       "unique                6             6                       6   \n",
       "top                   4             4                       4   \n",
       "freq              30762         31765                   29423   \n",
       "\n",
       "        On-board service  Leg room service  Baggage handling  Checkin service  \\\n",
       "count             103904            103904            103904           103904   \n",
       "unique                 6                 6                 5                6   \n",
       "top                    4                 4                 4                4   \n",
       "freq               30867             28789             37383            29055   \n",
       "\n",
       "        Inflight service  Cleanliness  \n",
       "count             103904       103904  \n",
       "unique                 6            6  \n",
       "top                    4            4  \n",
       "freq               37945        27179  "
      ]
     },
     "execution_count": 26,
     "metadata": {},
     "output_type": "execute_result"
    }
   ],
   "source": [
    "df.describe(include = ['category'])"
   ]
  },
  {
   "cell_type": "markdown",
   "id": "e526f81a",
   "metadata": {},
   "source": [
    "We can learn a few things from the table above. It shows the number of occurences of the certain factor, number of unique\n",
    "values in the category, most frequent value in the category, and frequency of it. "
   ]
  },
  {
   "cell_type": "markdown",
   "id": "f5fcc67a",
   "metadata": {},
   "source": [
    "Since all the categories have different types of values, we must handle the data separately. "
   ]
  },
  {
   "cell_type": "code",
   "execution_count": 33,
   "id": "9e1d3135",
   "metadata": {},
   "outputs": [],
   "source": [
    "numerical_columns = [c for c in df.columns if df[c].dtype.name != 'category']\n",
    "numerical_columns.remove('satisfaction')\n",
    "categorical_columns = [c for c in df.columns if df[c].dtype.name == 'category']\n",
    "data_describe = df.describe(include = ['category'])"
   ]
  },
  {
   "cell_type": "markdown",
   "id": "b5c25c22",
   "metadata": {},
   "source": [
    "We then divide the categorical factors into binary and non binary. "
   ]
  },
  {
   "cell_type": "code",
   "execution_count": 32,
   "id": "927c8efc",
   "metadata": {},
   "outputs": [
    {
     "name": "stdout",
     "output_type": "stream",
     "text": [
      "['Gender', 'Customer Type', 'Type of Travel'] ['Class', 'Inflight wifi service', 'Departure/Arrival time convenient', 'Ease of Online booking', 'Gate location', 'Food and drink', 'Online boarding', 'Seat comfort', 'Inflight entertainment', 'On-board service', 'Leg room service', 'Baggage handling', 'Checkin service', 'Inflight service', 'Cleanliness']\n"
     ]
    }
   ],
   "source": [
    "binary_columns = [c for c in categorical_columns if data_describe[c]['unique'] == 2]\n",
    "nonbinary_columns = [c for c in categorical_columns if data_describe[c]['unique'] > 2]\n",
    "print(binary_columns, nonbinary_columns)"
   ]
  },
  {
   "cell_type": "code",
   "execution_count": 35,
   "id": "9f4573ce",
   "metadata": {},
   "outputs": [
    {
     "name": "stdout",
     "output_type": "stream",
     "text": [
      "Gender : Male, Female.\n",
      "Customer Type : Loyal Customer, disloyal Customer.\n",
      "Type of Travel : Personal Travel, Business travel.\n"
     ]
    }
   ],
   "source": [
    "for col in binary_columns:\n",
    "    print(col, ': ', end = '')\n",
    "    for uniq in df[col].unique():\n",
    "        if uniq == df[col].unique()[-1]:\n",
    "            print(uniq, end = '.')\n",
    "        else:\n",
    "            print(uniq, end = ', ')\n",
    "    print()"
   ]
  },
  {
   "cell_type": "markdown",
   "id": "6618cb2a",
   "metadata": {},
   "source": [
    "To make the classifier algorithm more efficient, we would have to binarize the data instead of words. "
   ]
  },
  {
   "cell_type": "code",
   "execution_count": 42,
   "id": "acb0471c",
   "metadata": {},
   "outputs": [
    {
     "data": {
      "text/plain": [
       "0          True\n",
       "1          True\n",
       "2         False\n",
       "3         False\n",
       "4          True\n",
       "          ...  \n",
       "103899    False\n",
       "103900     True\n",
       "103901     True\n",
       "103902    False\n",
       "103903     True\n",
       "Name: Gender, Length: 103904, dtype: bool"
      ]
     },
     "execution_count": 42,
     "metadata": {},
     "output_type": "execute_result"
    }
   ],
   "source": [
    "df[col] == uniq"
   ]
  },
  {
   "cell_type": "code",
   "execution_count": 46,
   "id": "075b3c19",
   "metadata": {},
   "outputs": [
    {
     "data": {
      "text/html": [
       "<div>\n",
       "<style scoped>\n",
       "    .dataframe tbody tr th:only-of-type {\n",
       "        vertical-align: middle;\n",
       "    }\n",
       "\n",
       "    .dataframe tbody tr th {\n",
       "        vertical-align: top;\n",
       "    }\n",
       "\n",
       "    .dataframe thead th {\n",
       "        text-align: right;\n",
       "    }\n",
       "</style>\n",
       "<table border=\"1\" class=\"dataframe\">\n",
       "  <thead>\n",
       "    <tr style=\"text-align: right;\">\n",
       "      <th></th>\n",
       "      <th>Class</th>\n",
       "      <th>Inflight wifi service</th>\n",
       "      <th>Departure/Arrival time convenient</th>\n",
       "      <th>Ease of Online booking</th>\n",
       "      <th>Gate location</th>\n",
       "      <th>Food and drink</th>\n",
       "      <th>Online boarding</th>\n",
       "      <th>Seat comfort</th>\n",
       "      <th>Inflight entertainment</th>\n",
       "      <th>On-board service</th>\n",
       "      <th>Leg room service</th>\n",
       "      <th>Baggage handling</th>\n",
       "      <th>Checkin service</th>\n",
       "      <th>Inflight service</th>\n",
       "      <th>Cleanliness</th>\n",
       "    </tr>\n",
       "  </thead>\n",
       "  <tbody>\n",
       "    <tr>\n",
       "      <th>0</th>\n",
       "      <td>Eco Plus</td>\n",
       "      <td>3</td>\n",
       "      <td>4</td>\n",
       "      <td>3</td>\n",
       "      <td>1</td>\n",
       "      <td>5</td>\n",
       "      <td>3</td>\n",
       "      <td>5</td>\n",
       "      <td>5</td>\n",
       "      <td>4</td>\n",
       "      <td>3</td>\n",
       "      <td>4</td>\n",
       "      <td>4</td>\n",
       "      <td>5</td>\n",
       "      <td>5</td>\n",
       "    </tr>\n",
       "    <tr>\n",
       "      <th>1</th>\n",
       "      <td>Business</td>\n",
       "      <td>3</td>\n",
       "      <td>2</td>\n",
       "      <td>3</td>\n",
       "      <td>3</td>\n",
       "      <td>1</td>\n",
       "      <td>3</td>\n",
       "      <td>1</td>\n",
       "      <td>1</td>\n",
       "      <td>1</td>\n",
       "      <td>5</td>\n",
       "      <td>3</td>\n",
       "      <td>1</td>\n",
       "      <td>4</td>\n",
       "      <td>1</td>\n",
       "    </tr>\n",
       "    <tr>\n",
       "      <th>2</th>\n",
       "      <td>Business</td>\n",
       "      <td>2</td>\n",
       "      <td>2</td>\n",
       "      <td>2</td>\n",
       "      <td>2</td>\n",
       "      <td>5</td>\n",
       "      <td>5</td>\n",
       "      <td>5</td>\n",
       "      <td>5</td>\n",
       "      <td>4</td>\n",
       "      <td>3</td>\n",
       "      <td>4</td>\n",
       "      <td>4</td>\n",
       "      <td>4</td>\n",
       "      <td>5</td>\n",
       "    </tr>\n",
       "    <tr>\n",
       "      <th>3</th>\n",
       "      <td>Business</td>\n",
       "      <td>2</td>\n",
       "      <td>5</td>\n",
       "      <td>5</td>\n",
       "      <td>5</td>\n",
       "      <td>2</td>\n",
       "      <td>2</td>\n",
       "      <td>2</td>\n",
       "      <td>2</td>\n",
       "      <td>2</td>\n",
       "      <td>5</td>\n",
       "      <td>3</td>\n",
       "      <td>1</td>\n",
       "      <td>4</td>\n",
       "      <td>2</td>\n",
       "    </tr>\n",
       "    <tr>\n",
       "      <th>4</th>\n",
       "      <td>Business</td>\n",
       "      <td>3</td>\n",
       "      <td>3</td>\n",
       "      <td>3</td>\n",
       "      <td>3</td>\n",
       "      <td>4</td>\n",
       "      <td>5</td>\n",
       "      <td>5</td>\n",
       "      <td>3</td>\n",
       "      <td>3</td>\n",
       "      <td>4</td>\n",
       "      <td>4</td>\n",
       "      <td>3</td>\n",
       "      <td>3</td>\n",
       "      <td>3</td>\n",
       "    </tr>\n",
       "    <tr>\n",
       "      <th>...</th>\n",
       "      <td>...</td>\n",
       "      <td>...</td>\n",
       "      <td>...</td>\n",
       "      <td>...</td>\n",
       "      <td>...</td>\n",
       "      <td>...</td>\n",
       "      <td>...</td>\n",
       "      <td>...</td>\n",
       "      <td>...</td>\n",
       "      <td>...</td>\n",
       "      <td>...</td>\n",
       "      <td>...</td>\n",
       "      <td>...</td>\n",
       "      <td>...</td>\n",
       "      <td>...</td>\n",
       "    </tr>\n",
       "    <tr>\n",
       "      <th>103899</th>\n",
       "      <td>Eco</td>\n",
       "      <td>2</td>\n",
       "      <td>1</td>\n",
       "      <td>2</td>\n",
       "      <td>3</td>\n",
       "      <td>2</td>\n",
       "      <td>2</td>\n",
       "      <td>2</td>\n",
       "      <td>2</td>\n",
       "      <td>3</td>\n",
       "      <td>1</td>\n",
       "      <td>4</td>\n",
       "      <td>2</td>\n",
       "      <td>3</td>\n",
       "      <td>2</td>\n",
       "    </tr>\n",
       "    <tr>\n",
       "      <th>103900</th>\n",
       "      <td>Business</td>\n",
       "      <td>4</td>\n",
       "      <td>4</td>\n",
       "      <td>4</td>\n",
       "      <td>4</td>\n",
       "      <td>2</td>\n",
       "      <td>4</td>\n",
       "      <td>5</td>\n",
       "      <td>5</td>\n",
       "      <td>5</td>\n",
       "      <td>5</td>\n",
       "      <td>5</td>\n",
       "      <td>5</td>\n",
       "      <td>5</td>\n",
       "      <td>4</td>\n",
       "    </tr>\n",
       "    <tr>\n",
       "      <th>103901</th>\n",
       "      <td>Business</td>\n",
       "      <td>1</td>\n",
       "      <td>1</td>\n",
       "      <td>1</td>\n",
       "      <td>3</td>\n",
       "      <td>4</td>\n",
       "      <td>1</td>\n",
       "      <td>5</td>\n",
       "      <td>4</td>\n",
       "      <td>3</td>\n",
       "      <td>2</td>\n",
       "      <td>4</td>\n",
       "      <td>5</td>\n",
       "      <td>5</td>\n",
       "      <td>4</td>\n",
       "    </tr>\n",
       "    <tr>\n",
       "      <th>103902</th>\n",
       "      <td>Eco</td>\n",
       "      <td>1</td>\n",
       "      <td>1</td>\n",
       "      <td>1</td>\n",
       "      <td>5</td>\n",
       "      <td>1</td>\n",
       "      <td>1</td>\n",
       "      <td>1</td>\n",
       "      <td>1</td>\n",
       "      <td>4</td>\n",
       "      <td>5</td>\n",
       "      <td>1</td>\n",
       "      <td>5</td>\n",
       "      <td>4</td>\n",
       "      <td>1</td>\n",
       "    </tr>\n",
       "    <tr>\n",
       "      <th>103903</th>\n",
       "      <td>Business</td>\n",
       "      <td>1</td>\n",
       "      <td>3</td>\n",
       "      <td>3</td>\n",
       "      <td>3</td>\n",
       "      <td>1</td>\n",
       "      <td>1</td>\n",
       "      <td>1</td>\n",
       "      <td>1</td>\n",
       "      <td>1</td>\n",
       "      <td>1</td>\n",
       "      <td>4</td>\n",
       "      <td>4</td>\n",
       "      <td>3</td>\n",
       "      <td>1</td>\n",
       "    </tr>\n",
       "  </tbody>\n",
       "</table>\n",
       "<p>103904 rows × 15 columns</p>\n",
       "</div>"
      ],
      "text/plain": [
       "           Class Inflight wifi service Departure/Arrival time convenient  \\\n",
       "0       Eco Plus                     3                                 4   \n",
       "1       Business                     3                                 2   \n",
       "2       Business                     2                                 2   \n",
       "3       Business                     2                                 5   \n",
       "4       Business                     3                                 3   \n",
       "...          ...                   ...                               ...   \n",
       "103899       Eco                     2                                 1   \n",
       "103900  Business                     4                                 4   \n",
       "103901  Business                     1                                 1   \n",
       "103902       Eco                     1                                 1   \n",
       "103903  Business                     1                                 3   \n",
       "\n",
       "       Ease of Online booking Gate location Food and drink Online boarding  \\\n",
       "0                           3             1              5               3   \n",
       "1                           3             3              1               3   \n",
       "2                           2             2              5               5   \n",
       "3                           5             5              2               2   \n",
       "4                           3             3              4               5   \n",
       "...                       ...           ...            ...             ...   \n",
       "103899                      2             3              2               2   \n",
       "103900                      4             4              2               4   \n",
       "103901                      1             3              4               1   \n",
       "103902                      1             5              1               1   \n",
       "103903                      3             3              1               1   \n",
       "\n",
       "       Seat comfort Inflight entertainment On-board service Leg room service  \\\n",
       "0                 5                      5                4                3   \n",
       "1                 1                      1                1                5   \n",
       "2                 5                      5                4                3   \n",
       "3                 2                      2                2                5   \n",
       "4                 5                      3                3                4   \n",
       "...             ...                    ...              ...              ...   \n",
       "103899            2                      2                3                1   \n",
       "103900            5                      5                5                5   \n",
       "103901            5                      4                3                2   \n",
       "103902            1                      1                4                5   \n",
       "103903            1                      1                1                1   \n",
       "\n",
       "       Baggage handling Checkin service Inflight service Cleanliness  \n",
       "0                     4               4                5           5  \n",
       "1                     3               1                4           1  \n",
       "2                     4               4                4           5  \n",
       "3                     3               1                4           2  \n",
       "4                     4               3                3           3  \n",
       "...                 ...             ...              ...         ...  \n",
       "103899                4               2                3           2  \n",
       "103900                5               5                5           4  \n",
       "103901                4               5                5           4  \n",
       "103902                1               5                4           1  \n",
       "103903                4               4                3           1  \n",
       "\n",
       "[103904 rows x 15 columns]"
      ]
     },
     "execution_count": 46,
     "metadata": {},
     "output_type": "execute_result"
    }
   ],
   "source": [
    "df[nonbinary_columns]"
   ]
  },
  {
   "cell_type": "markdown",
   "id": "6cd41e4a",
   "metadata": {},
   "source": [
    "We are then going to proceed to vectorize the non-binary features. \n",
    "The feature j, which takes s values, will be replaced by s features, which take the values 0 or 1, depending on what the value of the original feature j is.\n",
    "This vectorization is carried out by the get_dummies method:"
   ]
  },
  {
   "cell_type": "code",
   "execution_count": 48,
   "id": "7ab8cfca",
   "metadata": {},
   "outputs": [
    {
     "name": "stdout",
     "output_type": "stream",
     "text": [
      "Index(['Class_Business', 'Class_Eco', 'Class_Eco Plus',\n",
      "       'Inflight wifi service_0', 'Inflight wifi service_1',\n",
      "       'Inflight wifi service_2', 'Inflight wifi service_3',\n",
      "       'Inflight wifi service_4', 'Inflight wifi service_5',\n",
      "       'Departure/Arrival time convenient_0',\n",
      "       'Departure/Arrival time convenient_1',\n",
      "       'Departure/Arrival time convenient_2',\n",
      "       'Departure/Arrival time convenient_3',\n",
      "       'Departure/Arrival time convenient_4',\n",
      "       'Departure/Arrival time convenient_5', 'Ease of Online booking_0',\n",
      "       'Ease of Online booking_1', 'Ease of Online booking_2',\n",
      "       'Ease of Online booking_3', 'Ease of Online booking_4',\n",
      "       'Ease of Online booking_5', 'Gate location_0', 'Gate location_1',\n",
      "       'Gate location_2', 'Gate location_3', 'Gate location_4',\n",
      "       'Gate location_5', 'Food and drink_0', 'Food and drink_1',\n",
      "       'Food and drink_2', 'Food and drink_3', 'Food and drink_4',\n",
      "       'Food and drink_5', 'Online boarding_0', 'Online boarding_1',\n",
      "       'Online boarding_2', 'Online boarding_3', 'Online boarding_4',\n",
      "       'Online boarding_5', 'Seat comfort_0', 'Seat comfort_1',\n",
      "       'Seat comfort_2', 'Seat comfort_3', 'Seat comfort_4', 'Seat comfort_5',\n",
      "       'Inflight entertainment_0', 'Inflight entertainment_1',\n",
      "       'Inflight entertainment_2', 'Inflight entertainment_3',\n",
      "       'Inflight entertainment_4', 'Inflight entertainment_5',\n",
      "       'On-board service_0', 'On-board service_1', 'On-board service_2',\n",
      "       'On-board service_3', 'On-board service_4', 'On-board service_5',\n",
      "       'Leg room service_0', 'Leg room service_1', 'Leg room service_2',\n",
      "       'Leg room service_3', 'Leg room service_4', 'Leg room service_5',\n",
      "       'Baggage handling_1', 'Baggage handling_2', 'Baggage handling_3',\n",
      "       'Baggage handling_4', 'Baggage handling_5', 'Checkin service_0',\n",
      "       'Checkin service_1', 'Checkin service_2', 'Checkin service_3',\n",
      "       'Checkin service_4', 'Checkin service_5', 'Inflight service_0',\n",
      "       'Inflight service_1', 'Inflight service_2', 'Inflight service_3',\n",
      "       'Inflight service_4', 'Inflight service_5', 'Cleanliness_0',\n",
      "       'Cleanliness_1', 'Cleanliness_2', 'Cleanliness_3', 'Cleanliness_4',\n",
      "       'Cleanliness_5'],\n",
      "      dtype='object')\n"
     ]
    }
   ],
   "source": [
    "df_nonbinary = pd.get_dummies(df[nonbinary_columns])\n",
    "print(df_nonbinary.columns)"
   ]
  },
  {
   "cell_type": "code",
   "execution_count": 50,
   "id": "82acfa4b",
   "metadata": {},
   "outputs": [
    {
     "data": {
      "text/plain": [
       "86"
      ]
     },
     "execution_count": 50,
     "metadata": {},
     "output_type": "execute_result"
    }
   ],
   "source": [
    "len(df_nonbinary.columns)"
   ]
  },
  {
   "cell_type": "markdown",
   "id": "2a58eb02",
   "metadata": {},
   "source": [
    "We are going to perform standardization (linear transformation that reduces all values to zero mean and one standard deviation) of all quantitative features."
   ]
  },
  {
   "cell_type": "code",
   "execution_count": 56,
   "id": "f981404b",
   "metadata": {},
   "outputs": [
    {
     "data": {
      "text/html": [
       "<div>\n",
       "<style scoped>\n",
       "    .dataframe tbody tr th:only-of-type {\n",
       "        vertical-align: middle;\n",
       "    }\n",
       "\n",
       "    .dataframe tbody tr th {\n",
       "        vertical-align: top;\n",
       "    }\n",
       "\n",
       "    .dataframe thead th {\n",
       "        text-align: right;\n",
       "    }\n",
       "</style>\n",
       "<table border=\"1\" class=\"dataframe\">\n",
       "  <thead>\n",
       "    <tr style=\"text-align: right;\">\n",
       "      <th></th>\n",
       "      <th>Age</th>\n",
       "      <th>Flight Distance</th>\n",
       "      <th>Departure Delay in Minutes</th>\n",
       "      <th>Arrival Delay in Minutes</th>\n",
       "    </tr>\n",
       "  </thead>\n",
       "  <tbody>\n",
       "    <tr>\n",
       "      <th>count</th>\n",
       "      <td>1.039040e+05</td>\n",
       "      <td>1.039040e+05</td>\n",
       "      <td>1.039040e+05</td>\n",
       "      <td>1.039040e+05</td>\n",
       "    </tr>\n",
       "    <tr>\n",
       "      <th>mean</th>\n",
       "      <td>-2.062606e-16</td>\n",
       "      <td>1.667322e-16</td>\n",
       "      <td>4.673560e-16</td>\n",
       "      <td>1.740579e-16</td>\n",
       "    </tr>\n",
       "    <tr>\n",
       "      <th>std</th>\n",
       "      <td>1.000000e+00</td>\n",
       "      <td>1.000000e+00</td>\n",
       "      <td>1.000000e+00</td>\n",
       "      <td>1.000000e+00</td>\n",
       "    </tr>\n",
       "    <tr>\n",
       "      <th>min</th>\n",
       "      <td>-2.142229e+00</td>\n",
       "      <td>-1.161763e+00</td>\n",
       "      <td>-3.875299e-01</td>\n",
       "      <td>-3.915519e-01</td>\n",
       "    </tr>\n",
       "    <tr>\n",
       "      <th>25%</th>\n",
       "      <td>-8.190365e-01</td>\n",
       "      <td>-7.776668e-01</td>\n",
       "      <td>-3.875299e-01</td>\n",
       "      <td>-3.915519e-01</td>\n",
       "    </tr>\n",
       "    <tr>\n",
       "      <th>50%</th>\n",
       "      <td>4.103839e-02</td>\n",
       "      <td>-3.474395e-01</td>\n",
       "      <td>-3.875299e-01</td>\n",
       "      <td>-3.915519e-01</td>\n",
       "    </tr>\n",
       "    <tr>\n",
       "      <th>75%</th>\n",
       "      <td>7.687940e-01</td>\n",
       "      <td>5.551353e-01</td>\n",
       "      <td>-7.364771e-02</td>\n",
       "      <td>-5.519805e-02</td>\n",
       "    </tr>\n",
       "    <tr>\n",
       "      <th>max</th>\n",
       "      <td>3.018221e+00</td>\n",
       "      <td>3.804405e+00</td>\n",
       "      <td>4.125418e+01</td>\n",
       "      <td>4.059187e+01</td>\n",
       "    </tr>\n",
       "  </tbody>\n",
       "</table>\n",
       "</div>"
      ],
      "text/plain": [
       "                Age  Flight Distance  Departure Delay in Minutes  \\\n",
       "count  1.039040e+05     1.039040e+05                1.039040e+05   \n",
       "mean  -2.062606e-16     1.667322e-16                4.673560e-16   \n",
       "std    1.000000e+00     1.000000e+00                1.000000e+00   \n",
       "min   -2.142229e+00    -1.161763e+00               -3.875299e-01   \n",
       "25%   -8.190365e-01    -7.776668e-01               -3.875299e-01   \n",
       "50%    4.103839e-02    -3.474395e-01               -3.875299e-01   \n",
       "75%    7.687940e-01     5.551353e-01               -7.364771e-02   \n",
       "max    3.018221e+00     3.804405e+00                4.125418e+01   \n",
       "\n",
       "       Arrival Delay in Minutes  \n",
       "count              1.039040e+05  \n",
       "mean               1.740579e-16  \n",
       "std                1.000000e+00  \n",
       "min               -3.915519e-01  \n",
       "25%               -3.915519e-01  \n",
       "50%               -3.915519e-01  \n",
       "75%               -5.519805e-02  \n",
       "max                4.059187e+01  "
      ]
     },
     "execution_count": 56,
     "metadata": {},
     "output_type": "execute_result"
    }
   ],
   "source": [
    "df_numerical = df[numerical_columns]\n",
    "df_numerical = (df_numerical - df_numerical.mean(axis = 0))/df_numerical.std(axis = 0)\n",
    "df_numerical.describe()"
   ]
  },
  {
   "cell_type": "markdown",
   "id": "97dc1706",
   "metadata": {},
   "source": [
    "We then combine all the data together neatly so that we can go into the modelling and training. "
   ]
  },
  {
   "cell_type": "code",
   "execution_count": 64,
   "id": "ff7c8646",
   "metadata": {},
   "outputs": [
    {
     "name": "stdout",
     "output_type": "stream",
     "text": [
      "(103904, 93)\n"
     ]
    }
   ],
   "source": [
    "target = df['satisfaction']\n",
    "finaldata = pd.concat((df_numerical, df_nonbinary, df[binary_columns]), axis = 1)\n",
    "print(finaldata.shape)"
   ]
  },
  {
   "cell_type": "code",
   "execution_count": 66,
   "id": "7b841786",
   "metadata": {},
   "outputs": [
    {
     "data": {
      "text/html": [
       "<div>\n",
       "<style scoped>\n",
       "    .dataframe tbody tr th:only-of-type {\n",
       "        vertical-align: middle;\n",
       "    }\n",
       "\n",
       "    .dataframe tbody tr th {\n",
       "        vertical-align: top;\n",
       "    }\n",
       "\n",
       "    .dataframe thead th {\n",
       "        text-align: right;\n",
       "    }\n",
       "</style>\n",
       "<table border=\"1\" class=\"dataframe\">\n",
       "  <thead>\n",
       "    <tr style=\"text-align: right;\">\n",
       "      <th></th>\n",
       "      <th>Age</th>\n",
       "      <th>Flight Distance</th>\n",
       "      <th>Departure Delay in Minutes</th>\n",
       "      <th>Arrival Delay in Minutes</th>\n",
       "      <th>Class_Business</th>\n",
       "      <th>Class_Eco</th>\n",
       "      <th>Class_Eco Plus</th>\n",
       "      <th>Inflight wifi service_0</th>\n",
       "      <th>Inflight wifi service_1</th>\n",
       "      <th>Inflight wifi service_2</th>\n",
       "      <th>...</th>\n",
       "      <th>Inflight service_2</th>\n",
       "      <th>Inflight service_3</th>\n",
       "      <th>Inflight service_4</th>\n",
       "      <th>Inflight service_5</th>\n",
       "      <th>Cleanliness_0</th>\n",
       "      <th>Cleanliness_1</th>\n",
       "      <th>Cleanliness_2</th>\n",
       "      <th>Cleanliness_3</th>\n",
       "      <th>Cleanliness_4</th>\n",
       "      <th>Cleanliness_5</th>\n",
       "    </tr>\n",
       "  </thead>\n",
       "  <tbody>\n",
       "    <tr>\n",
       "      <th>count</th>\n",
       "      <td>1.039040e+05</td>\n",
       "      <td>1.039040e+05</td>\n",
       "      <td>1.039040e+05</td>\n",
       "      <td>1.039040e+05</td>\n",
       "      <td>103904.000000</td>\n",
       "      <td>103904.000000</td>\n",
       "      <td>103904.000000</td>\n",
       "      <td>103904.000000</td>\n",
       "      <td>103904.000000</td>\n",
       "      <td>103904.000000</td>\n",
       "      <td>...</td>\n",
       "      <td>103904.000000</td>\n",
       "      <td>103904.000000</td>\n",
       "      <td>103904.000000</td>\n",
       "      <td>103904.000000</td>\n",
       "      <td>103904.000000</td>\n",
       "      <td>103904.000000</td>\n",
       "      <td>103904.000000</td>\n",
       "      <td>103904.000000</td>\n",
       "      <td>103904.000000</td>\n",
       "      <td>103904.000000</td>\n",
       "    </tr>\n",
       "    <tr>\n",
       "      <th>mean</th>\n",
       "      <td>-2.062606e-16</td>\n",
       "      <td>1.667322e-16</td>\n",
       "      <td>4.673560e-16</td>\n",
       "      <td>1.740579e-16</td>\n",
       "      <td>0.477989</td>\n",
       "      <td>0.449886</td>\n",
       "      <td>0.072124</td>\n",
       "      <td>0.029864</td>\n",
       "      <td>0.171697</td>\n",
       "      <td>0.248595</td>\n",
       "      <td>...</td>\n",
       "      <td>0.110265</td>\n",
       "      <td>0.195363</td>\n",
       "      <td>0.365193</td>\n",
       "      <td>0.260972</td>\n",
       "      <td>0.000115</td>\n",
       "      <td>0.128176</td>\n",
       "      <td>0.155259</td>\n",
       "      <td>0.236507</td>\n",
       "      <td>0.261578</td>\n",
       "      <td>0.218365</td>\n",
       "    </tr>\n",
       "    <tr>\n",
       "      <th>std</th>\n",
       "      <td>1.000000e+00</td>\n",
       "      <td>1.000000e+00</td>\n",
       "      <td>1.000000e+00</td>\n",
       "      <td>1.000000e+00</td>\n",
       "      <td>0.499518</td>\n",
       "      <td>0.497485</td>\n",
       "      <td>0.258695</td>\n",
       "      <td>0.170213</td>\n",
       "      <td>0.377119</td>\n",
       "      <td>0.432200</td>\n",
       "      <td>...</td>\n",
       "      <td>0.313222</td>\n",
       "      <td>0.396482</td>\n",
       "      <td>0.481487</td>\n",
       "      <td>0.439167</td>\n",
       "      <td>0.010746</td>\n",
       "      <td>0.334287</td>\n",
       "      <td>0.362153</td>\n",
       "      <td>0.424939</td>\n",
       "      <td>0.439496</td>\n",
       "      <td>0.413138</td>\n",
       "    </tr>\n",
       "    <tr>\n",
       "      <th>min</th>\n",
       "      <td>-2.142229e+00</td>\n",
       "      <td>-1.161763e+00</td>\n",
       "      <td>-3.875299e-01</td>\n",
       "      <td>-3.915519e-01</td>\n",
       "      <td>0.000000</td>\n",
       "      <td>0.000000</td>\n",
       "      <td>0.000000</td>\n",
       "      <td>0.000000</td>\n",
       "      <td>0.000000</td>\n",
       "      <td>0.000000</td>\n",
       "      <td>...</td>\n",
       "      <td>0.000000</td>\n",
       "      <td>0.000000</td>\n",
       "      <td>0.000000</td>\n",
       "      <td>0.000000</td>\n",
       "      <td>0.000000</td>\n",
       "      <td>0.000000</td>\n",
       "      <td>0.000000</td>\n",
       "      <td>0.000000</td>\n",
       "      <td>0.000000</td>\n",
       "      <td>0.000000</td>\n",
       "    </tr>\n",
       "    <tr>\n",
       "      <th>25%</th>\n",
       "      <td>-8.190365e-01</td>\n",
       "      <td>-7.776668e-01</td>\n",
       "      <td>-3.875299e-01</td>\n",
       "      <td>-3.915519e-01</td>\n",
       "      <td>0.000000</td>\n",
       "      <td>0.000000</td>\n",
       "      <td>0.000000</td>\n",
       "      <td>0.000000</td>\n",
       "      <td>0.000000</td>\n",
       "      <td>0.000000</td>\n",
       "      <td>...</td>\n",
       "      <td>0.000000</td>\n",
       "      <td>0.000000</td>\n",
       "      <td>0.000000</td>\n",
       "      <td>0.000000</td>\n",
       "      <td>0.000000</td>\n",
       "      <td>0.000000</td>\n",
       "      <td>0.000000</td>\n",
       "      <td>0.000000</td>\n",
       "      <td>0.000000</td>\n",
       "      <td>0.000000</td>\n",
       "    </tr>\n",
       "    <tr>\n",
       "      <th>50%</th>\n",
       "      <td>4.103839e-02</td>\n",
       "      <td>-3.474395e-01</td>\n",
       "      <td>-3.875299e-01</td>\n",
       "      <td>-3.915519e-01</td>\n",
       "      <td>0.000000</td>\n",
       "      <td>0.000000</td>\n",
       "      <td>0.000000</td>\n",
       "      <td>0.000000</td>\n",
       "      <td>0.000000</td>\n",
       "      <td>0.000000</td>\n",
       "      <td>...</td>\n",
       "      <td>0.000000</td>\n",
       "      <td>0.000000</td>\n",
       "      <td>0.000000</td>\n",
       "      <td>0.000000</td>\n",
       "      <td>0.000000</td>\n",
       "      <td>0.000000</td>\n",
       "      <td>0.000000</td>\n",
       "      <td>0.000000</td>\n",
       "      <td>0.000000</td>\n",
       "      <td>0.000000</td>\n",
       "    </tr>\n",
       "    <tr>\n",
       "      <th>75%</th>\n",
       "      <td>7.687940e-01</td>\n",
       "      <td>5.551353e-01</td>\n",
       "      <td>-7.364771e-02</td>\n",
       "      <td>-5.519805e-02</td>\n",
       "      <td>1.000000</td>\n",
       "      <td>1.000000</td>\n",
       "      <td>0.000000</td>\n",
       "      <td>0.000000</td>\n",
       "      <td>0.000000</td>\n",
       "      <td>0.000000</td>\n",
       "      <td>...</td>\n",
       "      <td>0.000000</td>\n",
       "      <td>0.000000</td>\n",
       "      <td>1.000000</td>\n",
       "      <td>1.000000</td>\n",
       "      <td>0.000000</td>\n",
       "      <td>0.000000</td>\n",
       "      <td>0.000000</td>\n",
       "      <td>0.000000</td>\n",
       "      <td>1.000000</td>\n",
       "      <td>0.000000</td>\n",
       "    </tr>\n",
       "    <tr>\n",
       "      <th>max</th>\n",
       "      <td>3.018221e+00</td>\n",
       "      <td>3.804405e+00</td>\n",
       "      <td>4.125418e+01</td>\n",
       "      <td>4.059187e+01</td>\n",
       "      <td>1.000000</td>\n",
       "      <td>1.000000</td>\n",
       "      <td>1.000000</td>\n",
       "      <td>1.000000</td>\n",
       "      <td>1.000000</td>\n",
       "      <td>1.000000</td>\n",
       "      <td>...</td>\n",
       "      <td>1.000000</td>\n",
       "      <td>1.000000</td>\n",
       "      <td>1.000000</td>\n",
       "      <td>1.000000</td>\n",
       "      <td>1.000000</td>\n",
       "      <td>1.000000</td>\n",
       "      <td>1.000000</td>\n",
       "      <td>1.000000</td>\n",
       "      <td>1.000000</td>\n",
       "      <td>1.000000</td>\n",
       "    </tr>\n",
       "  </tbody>\n",
       "</table>\n",
       "<p>8 rows × 90 columns</p>\n",
       "</div>"
      ],
      "text/plain": [
       "                Age  Flight Distance  Departure Delay in Minutes  \\\n",
       "count  1.039040e+05     1.039040e+05                1.039040e+05   \n",
       "mean  -2.062606e-16     1.667322e-16                4.673560e-16   \n",
       "std    1.000000e+00     1.000000e+00                1.000000e+00   \n",
       "min   -2.142229e+00    -1.161763e+00               -3.875299e-01   \n",
       "25%   -8.190365e-01    -7.776668e-01               -3.875299e-01   \n",
       "50%    4.103839e-02    -3.474395e-01               -3.875299e-01   \n",
       "75%    7.687940e-01     5.551353e-01               -7.364771e-02   \n",
       "max    3.018221e+00     3.804405e+00                4.125418e+01   \n",
       "\n",
       "       Arrival Delay in Minutes  Class_Business      Class_Eco  \\\n",
       "count              1.039040e+05   103904.000000  103904.000000   \n",
       "mean               1.740579e-16        0.477989       0.449886   \n",
       "std                1.000000e+00        0.499518       0.497485   \n",
       "min               -3.915519e-01        0.000000       0.000000   \n",
       "25%               -3.915519e-01        0.000000       0.000000   \n",
       "50%               -3.915519e-01        0.000000       0.000000   \n",
       "75%               -5.519805e-02        1.000000       1.000000   \n",
       "max                4.059187e+01        1.000000       1.000000   \n",
       "\n",
       "       Class_Eco Plus  Inflight wifi service_0  Inflight wifi service_1  \\\n",
       "count   103904.000000            103904.000000            103904.000000   \n",
       "mean         0.072124                 0.029864                 0.171697   \n",
       "std          0.258695                 0.170213                 0.377119   \n",
       "min          0.000000                 0.000000                 0.000000   \n",
       "25%          0.000000                 0.000000                 0.000000   \n",
       "50%          0.000000                 0.000000                 0.000000   \n",
       "75%          0.000000                 0.000000                 0.000000   \n",
       "max          1.000000                 1.000000                 1.000000   \n",
       "\n",
       "       Inflight wifi service_2  ...  Inflight service_2  Inflight service_3  \\\n",
       "count            103904.000000  ...       103904.000000       103904.000000   \n",
       "mean                  0.248595  ...            0.110265            0.195363   \n",
       "std                   0.432200  ...            0.313222            0.396482   \n",
       "min                   0.000000  ...            0.000000            0.000000   \n",
       "25%                   0.000000  ...            0.000000            0.000000   \n",
       "50%                   0.000000  ...            0.000000            0.000000   \n",
       "75%                   0.000000  ...            0.000000            0.000000   \n",
       "max                   1.000000  ...            1.000000            1.000000   \n",
       "\n",
       "       Inflight service_4  Inflight service_5  Cleanliness_0  Cleanliness_1  \\\n",
       "count       103904.000000       103904.000000  103904.000000  103904.000000   \n",
       "mean             0.365193            0.260972       0.000115       0.128176   \n",
       "std              0.481487            0.439167       0.010746       0.334287   \n",
       "min              0.000000            0.000000       0.000000       0.000000   \n",
       "25%              0.000000            0.000000       0.000000       0.000000   \n",
       "50%              0.000000            0.000000       0.000000       0.000000   \n",
       "75%              1.000000            1.000000       0.000000       0.000000   \n",
       "max              1.000000            1.000000       1.000000       1.000000   \n",
       "\n",
       "       Cleanliness_2  Cleanliness_3  Cleanliness_4  Cleanliness_5  \n",
       "count  103904.000000  103904.000000  103904.000000  103904.000000  \n",
       "mean        0.155259       0.236507       0.261578       0.218365  \n",
       "std         0.362153       0.424939       0.439496       0.413138  \n",
       "min         0.000000       0.000000       0.000000       0.000000  \n",
       "25%         0.000000       0.000000       0.000000       0.000000  \n",
       "50%         0.000000       0.000000       0.000000       0.000000  \n",
       "75%         0.000000       0.000000       1.000000       0.000000  \n",
       "max         1.000000       1.000000       1.000000       1.000000  \n",
       "\n",
       "[8 rows x 90 columns]"
      ]
     },
     "execution_count": 66,
     "metadata": {},
     "output_type": "execute_result"
    }
   ],
   "source": [
    "finaldata.describe()"
   ]
  }
 ],
 "metadata": {
  "kernelspec": {
   "display_name": "Python 3 (ipykernel)",
   "language": "python",
   "name": "python3"
  },
  "language_info": {
   "codemirror_mode": {
    "name": "ipython",
    "version": 3
   },
   "file_extension": ".py",
   "mimetype": "text/x-python",
   "name": "python",
   "nbconvert_exporter": "python",
   "pygments_lexer": "ipython3",
   "version": "3.9.12"
  }
 },
 "nbformat": 4,
 "nbformat_minor": 5
}
